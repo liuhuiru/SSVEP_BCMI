{
 "cells": [
  {
   "cell_type": "code",
   "execution_count": 1,
   "metadata": {},
   "outputs": [
    {
     "name": "stderr",
     "output_type": "stream",
     "text": [
      "d:\\Code\\Anaconda\\envs\\mytensorflowenv\\lib\\site-packages\\requests\\__init__.py:104: RequestsDependencyWarning: urllib3 (1.26.8) or chardet (5.0.0)/charset_normalizer (2.0.11) doesn't match a supported version!\n",
      "  RequestsDependencyWarning)\n"
     ]
    }
   ],
   "source": [
    "import numpy as np\n",
    "import tensorflow as tf\n",
    "import matplotlib.pyplot as plt\n",
    "\n",
    "\n",
    "from keras.layers import Input,Conv2D,BatchNormalization,Dense,Dropout,Flatten,Activation,GlobalAveragePooling2D,Multiply,Add,Concatenate,Average\n",
    "from keras.regularizers import l2\n",
    "from tensorflow.keras import initializers,optimizers\n",
    "from scipy.io import loadmat\n",
    "from sklearn.model_selection import KFold\n",
    "from sklearn.preprocessing import LabelBinarizer\n",
    "from scipy import signal\n",
    "from sklearn.model_selection import train_test_split\n"
   ]
  },
  {
   "cell_type": "code",
   "execution_count": 2,
   "metadata": {},
   "outputs": [],
   "source": [
    "def load_data(filepath, sampling):\n",
    "    rawdata = np.zeros((7, 24, sampling*4, 15)) #(num_classes, num_channels, num_samples, num_blocks)\n",
    "    block = 0\n",
    "    for i in range(1,16):\n",
    "        traildata = loadmat(filepath + 'block' + str(i) + '.mat')\n",
    "        traildata = traildata['data']\n",
    "        print(traildata.shape)\n",
    "\n",
    "        #去除闪烁刺激\n",
    "        data = np.zeros((7, 24, sampling*4))\n",
    "        cuetime = 1 # 1秒提示\n",
    "        trailtime = 4 # 4秒闪烁刺激\n",
    "        for j in range(7):\n",
    "            # print((cuetime+trailtime)*sampling - cuetime*sampling)\n",
    "            data[j,:,:] = np.array(traildata[:, cuetime*sampling:(cuetime+trailtime)*sampling])\n",
    "            cuetime += 5\n",
    "\n",
    "        rawdata[:, :, :, block] = np.array(data)\n",
    "        block += 1\n",
    "    return rawdata"
   ]
  },
  {
   "cell_type": "code",
   "execution_count": 3,
   "metadata": {},
   "outputs": [],
   "source": [
    "#滤波 6-50Hz\n",
    "def band_filter_process(input):\n",
    "    \n",
    "    b_HPF,a_HPF = signal.butter(4, 0.04, btype='highpass') #4阶，6Hz ， 6/(sampling_rate/2) 和iirfilter效果一样\n",
    "    b_LPF,a_LPF = signal.butter(4, 0.33333333, btype='lowpass') #4阶，50Hz ，50/(sampling_rate/2) 和iirfilter效果一样\n",
    "    \n",
    "    data_HF = signal.filtfilt(b_HPF, a_HPF, input) #零相位滤波，滤两次，反向多滤了一次\n",
    "    band = signal.filtfilt(b_LPF, a_LPF, data_HF) #6-50\n",
    "    \n",
    "    return band"
   ]
  },
  {
   "cell_type": "code",
   "execution_count": 4,
   "metadata": {},
   "outputs": [],
   "source": [
    "def get_feature_data(rawData, channels, num_targets, num_blocks, simpling_rate, time_length=1, trail_length=4):\n",
    "    window_length = int(simpling_rate * time_length) \n",
    "    data_length = 1200\n",
    "    fft_scale = int(data_length/window_length) #4\n",
    "\n",
    "    trainData = []\n",
    "    trainLabel = []\n",
    "\n",
    "    for j in range(num_targets): #7个targets\n",
    "        targets_index = j\n",
    "        for k in range(num_blocks): #15个block\n",
    "            block_index = k\n",
    "\n",
    "            channel1_data = rawData[targets_index,channels[0],:,block_index] #O1\n",
    "            channel2_data = rawData[targets_index,channels[1],:,block_index] #O2\n",
    "            channel3_data = rawData[targets_index,channels[2],:,block_index] #T3\n",
    "            channel4_data = rawData[targets_index,channels[3],:,block_index] #T6\n",
    "            channel5_data = rawData[targets_index,channels[4],:,block_index] #P3\n",
    "            channel6_data = rawData[targets_index,channels[5],:,block_index] #P4\n",
    "            channel7_data = rawData[targets_index,channels[6],:,block_index] #C3\n",
    "            channel8_data = rawData[targets_index,channels[7],:,block_index] #C4\n",
    "            channel9_data = rawData[targets_index,channels[8],:,block_index] #Cz\n",
    "\n",
    "            yd4_1 = band_filter_process(channel1_data) #滤波\n",
    "            yd4_2 = band_filter_process(channel2_data)\n",
    "            yd4_3 = band_filter_process(channel3_data)\n",
    "            yd4_4 = band_filter_process(channel4_data)\n",
    "            yd4_5 = band_filter_process(channel5_data)\n",
    "            yd4_6 = band_filter_process(channel6_data)\n",
    "            yd4_7 = band_filter_process(channel7_data)\n",
    "            yd4_8 = band_filter_process(channel8_data)\n",
    "            yd4_9 = band_filter_process(channel9_data)\n",
    "\n",
    "            for m in range(fft_scale):\n",
    "                yd4_1_fft = np.fft.rfft(yd4_1[m*window_length:(m+1)*window_length],data_length)/window_length\n",
    "                yd4_2_fft = np.fft.rfft(yd4_2[m*window_length:(m+1)*window_length],data_length)/window_length\n",
    "                yd4_3_fft = np.fft.rfft(yd4_3[m*window_length:(m+1)*window_length],data_length)/window_length\n",
    "                yd4_4_fft = np.fft.rfft(yd4_4[m*window_length:(m+1)*window_length],data_length)/window_length\n",
    "                yd4_5_fft = np.fft.rfft(yd4_5[m*window_length:(m+1)*window_length],data_length)/window_length\n",
    "                yd4_6_fft = np.fft.rfft(yd4_6[m*window_length:(m+1)*window_length],data_length)/window_length\n",
    "                yd4_7_fft = np.fft.rfft(yd4_7[m*window_length:(m+1)*window_length],data_length)/window_length\n",
    "                yd4_8_fft = np.fft.rfft(yd4_8[m*window_length:(m+1)*window_length],data_length)/window_length\n",
    "                yd4_9_fft = np.fft.rfft(yd4_9[m*window_length:(m+1)*window_length],data_length)/window_length\n",
    "\n",
    "                trainData.append(np.array([np.concatenate((np.real(yd4_1_fft)[round(5/0.25):round(55/0.25) + 1],np.imag(yd4_1_fft)[round(5/0.25):round(55/0.25) + 1]),axis=0),\n",
    "                                            np.concatenate((np.real(yd4_2_fft)[round(5/0.25):round(55/0.25) + 1],np.imag(yd4_2_fft)[round(5/0.25):round(55/0.25) + 1]),axis=0),\n",
    "                                            np.concatenate((np.real(yd4_3_fft)[round(5/0.25):round(55/0.25) + 1],np.imag(yd4_3_fft)[round(5/0.25):round(55/0.25) + 1]),axis=0),\n",
    "                                            np.concatenate((np.real(yd4_4_fft)[round(5/0.25):round(55/0.25) + 1],np.imag(yd4_4_fft)[round(5/0.25):round(55/0.25) + 1]),axis=0),\n",
    "                                            np.concatenate((np.real(yd4_5_fft)[round(5/0.25):round(55/0.25) + 1],np.imag(yd4_5_fft)[round(5/0.25):round(55/0.25) + 1]),axis=0),\n",
    "                                            np.concatenate((np.real(yd4_6_fft)[round(5/0.25):round(55/0.25) + 1],np.imag(yd4_6_fft)[round(5/0.25):round(55/0.25) + 1]),axis=0),\n",
    "                                            np.concatenate((np.real(yd4_7_fft)[round(5/0.25):round(55/0.25) + 1],np.imag(yd4_7_fft)[round(5/0.25):round(55/0.25) + 1]),axis=0),\n",
    "                                            np.concatenate((np.real(yd4_8_fft)[round(5/0.25):round(55/0.25) + 1],np.imag(yd4_8_fft)[round(5/0.25):round(55/0.25) + 1]),axis=0),\n",
    "                                            np.concatenate((np.real(yd4_9_fft)[round(5/0.25):round(55/0.25) + 1],np.imag(yd4_9_fft)[round(5/0.25):round(55/0.25) + 1]),axis=0)\n",
    "                                            ]))\n",
    "\n",
    "                trainLabel.append(targets_index)\n",
    "    trainData = np.expand_dims(np.array(trainData),axis=-1)\n",
    "    trainLabel = np.array(trainLabel)\n",
    "    return trainData, trainLabel\n",
    "\n"
   ]
  },
  {
   "cell_type": "code",
   "execution_count": 5,
   "metadata": {},
   "outputs": [],
   "source": [
    "#添加了注意力机制\n",
    "def acnn_model(input_shape, decay):\n",
    "    input = Input(shape=input_shape)\n",
    "    \n",
    "    \n",
    "    #conv1\n",
    "    input_x = Conv2D(2*8, kernel_size=(9, 1), \n",
    "                     padding=\"valid\", kernel_regularizer=l2(decay), \n",
    "                     kernel_initializer=initializers.RandomNormal(mean=0.0, stddev=0.01, seed=None))(input)\n",
    "    input_x = BatchNormalization()(input_x)\n",
    "    input_x = Activation('relu')(input_x)\n",
    "    input_x = Dropout(0.25)(input_x)\n",
    "    \n",
    "    #conv2\n",
    "    input_x = Conv2D(2*8, kernel_size=(1, 10), \n",
    "                     kernel_regularizer=l2(decay), padding=\"valid\", \n",
    "                     kernel_initializer=initializers.RandomNormal(mean=0.0, stddev=0.01, seed=None))(input_x)\n",
    "    input_x = BatchNormalization()(input_x)\n",
    "    input_x = Activation('relu')(input_x)\n",
    "    input_x = Dropout(0.25)(input_x)\n",
    "    \n",
    "    #se\n",
    "    input_x_2 = GlobalAveragePooling2D()(input_x)\n",
    "    input_x_2 = Dense(units=2,activation='relu',use_bias=False,kernel_regularizer=l2(l=decay))(input_x_2)\n",
    "    input_x_2 = Dense(units=16, activation='sigmoid', use_bias=False,kernel_regularizer=l2(l=decay))(input_x_2)\n",
    "    input_x = Multiply()([input_x,input_x_2])\n",
    "    \n",
    "    #output\n",
    "    input_x = Flatten()(input_x)\n",
    "    x = Dense(7, activation='softmax', \n",
    "                    kernel_regularizer=l2(decay), \n",
    "                    kernel_initializer=initializers.RandomNormal(mean=0.0, stddev=0.01, seed=None))(input_x)\n",
    "    \n",
    "    model = tf.keras.Model(inputs=input,outputs=x)\n",
    "    \n",
    "    return model"
   ]
  },
  {
   "cell_type": "code",
   "execution_count": 6,
   "metadata": {},
   "outputs": [
    {
     "ename": "FileNotFoundError",
     "evalue": "[Errno 2] No such file or directory: '../../stimulate/SSVEP_BCI/data/class/s1/block1.mat'",
     "output_type": "error",
     "traceback": [
      "\u001b[1;31m---------------------------------------------------------------------------\u001b[0m",
      "\u001b[1;31mFileNotFoundError\u001b[0m                         Traceback (most recent call last)",
      "\u001b[1;32md:\\Code\\Anaconda\\envs\\mytensorflowenv\\lib\\site-packages\\scipy\\io\\matlab\\mio.py\u001b[0m in \u001b[0;36m_open_file\u001b[1;34m(file_like, appendmat, mode)\u001b[0m\n\u001b[0;32m     38\u001b[0m     \u001b[1;32mtry\u001b[0m\u001b[1;33m:\u001b[0m\u001b[1;33m\u001b[0m\u001b[1;33m\u001b[0m\u001b[0m\n\u001b[1;32m---> 39\u001b[1;33m         \u001b[1;32mreturn\u001b[0m \u001b[0mopen\u001b[0m\u001b[1;33m(\u001b[0m\u001b[0mfile_like\u001b[0m\u001b[1;33m,\u001b[0m \u001b[0mmode\u001b[0m\u001b[1;33m)\u001b[0m\u001b[1;33m,\u001b[0m \u001b[1;32mTrue\u001b[0m\u001b[1;33m\u001b[0m\u001b[1;33m\u001b[0m\u001b[0m\n\u001b[0m\u001b[0;32m     40\u001b[0m     \u001b[1;32mexcept\u001b[0m \u001b[0mIOError\u001b[0m\u001b[1;33m:\u001b[0m\u001b[1;33m\u001b[0m\u001b[1;33m\u001b[0m\u001b[0m\n",
      "\u001b[1;31mFileNotFoundError\u001b[0m: [Errno 2] No such file or directory: '../../stimulate/SSVEP_BCI/data/class/s1/block1.mat'",
      "\nDuring handling of the above exception, another exception occurred:\n",
      "\u001b[1;31mFileNotFoundError\u001b[0m                         Traceback (most recent call last)",
      "\u001b[1;32m<ipython-input-6-f5eaf9060622>\u001b[0m in \u001b[0;36m<module>\u001b[1;34m\u001b[0m\n\u001b[0;32m      1\u001b[0m \u001b[1;31m# filepath='../../Datasets/private/subject3/matdata/'\u001b[0m\u001b[1;33m\u001b[0m\u001b[1;33m\u001b[0m\u001b[1;33m\u001b[0m\u001b[0m\n\u001b[0;32m      2\u001b[0m \u001b[0mfilepath\u001b[0m\u001b[1;33m=\u001b[0m\u001b[1;34m'../../stimulate/SSVEP_BCI/data/class/s1/'\u001b[0m\u001b[1;33m\u001b[0m\u001b[1;33m\u001b[0m\u001b[0m\n\u001b[1;32m----> 3\u001b[1;33m \u001b[0mrawdata\u001b[0m \u001b[1;33m=\u001b[0m \u001b[0mload_data\u001b[0m\u001b[1;33m(\u001b[0m\u001b[0mfilepath\u001b[0m\u001b[1;33m,\u001b[0m \u001b[1;36m300\u001b[0m\u001b[1;33m)\u001b[0m\u001b[1;33m\u001b[0m\u001b[1;33m\u001b[0m\u001b[0m\n\u001b[0m\u001b[0;32m      4\u001b[0m \u001b[0mchannels\u001b[0m \u001b[1;33m=\u001b[0m \u001b[1;33m[\u001b[0m\u001b[1;36m14\u001b[0m\u001b[1;33m,\u001b[0m \u001b[1;36m15\u001b[0m\u001b[1;33m,\u001b[0m \u001b[1;36m0\u001b[0m\u001b[1;33m,\u001b[0m \u001b[1;36m6\u001b[0m\u001b[1;33m,\u001b[0m \u001b[1;36m13\u001b[0m\u001b[1;33m,\u001b[0m \u001b[1;36m22\u001b[0m\u001b[1;33m,\u001b[0m \u001b[1;36m1\u001b[0m\u001b[1;33m,\u001b[0m \u001b[1;36m5\u001b[0m\u001b[1;33m,\u001b[0m \u001b[1;36m7\u001b[0m\u001b[1;33m]\u001b[0m\u001b[1;33m\u001b[0m\u001b[1;33m\u001b[0m\u001b[0m\n\u001b[0;32m      5\u001b[0m \u001b[1;31m# channels = [1, 2, 3, 4, 5, 7]\u001b[0m\u001b[1;33m\u001b[0m\u001b[1;33m\u001b[0m\u001b[1;33m\u001b[0m\u001b[0m\n",
      "\u001b[1;32m<ipython-input-2-1b1f5ef9d402>\u001b[0m in \u001b[0;36mload_data\u001b[1;34m(filepath, sampling)\u001b[0m\n\u001b[0;32m      3\u001b[0m     \u001b[0mblock\u001b[0m \u001b[1;33m=\u001b[0m \u001b[1;36m0\u001b[0m\u001b[1;33m\u001b[0m\u001b[1;33m\u001b[0m\u001b[0m\n\u001b[0;32m      4\u001b[0m     \u001b[1;32mfor\u001b[0m \u001b[0mi\u001b[0m \u001b[1;32min\u001b[0m \u001b[0mrange\u001b[0m\u001b[1;33m(\u001b[0m\u001b[1;36m1\u001b[0m\u001b[1;33m,\u001b[0m\u001b[1;36m16\u001b[0m\u001b[1;33m)\u001b[0m\u001b[1;33m:\u001b[0m\u001b[1;33m\u001b[0m\u001b[1;33m\u001b[0m\u001b[0m\n\u001b[1;32m----> 5\u001b[1;33m         \u001b[0mtraildata\u001b[0m \u001b[1;33m=\u001b[0m \u001b[0mloadmat\u001b[0m\u001b[1;33m(\u001b[0m\u001b[0mfilepath\u001b[0m \u001b[1;33m+\u001b[0m \u001b[1;34m'block'\u001b[0m \u001b[1;33m+\u001b[0m \u001b[0mstr\u001b[0m\u001b[1;33m(\u001b[0m\u001b[0mi\u001b[0m\u001b[1;33m)\u001b[0m \u001b[1;33m+\u001b[0m \u001b[1;34m'.mat'\u001b[0m\u001b[1;33m)\u001b[0m\u001b[1;33m\u001b[0m\u001b[1;33m\u001b[0m\u001b[0m\n\u001b[0m\u001b[0;32m      6\u001b[0m         \u001b[0mtraildata\u001b[0m \u001b[1;33m=\u001b[0m \u001b[0mtraildata\u001b[0m\u001b[1;33m[\u001b[0m\u001b[1;34m'data'\u001b[0m\u001b[1;33m]\u001b[0m\u001b[1;33m\u001b[0m\u001b[1;33m\u001b[0m\u001b[0m\n\u001b[0;32m      7\u001b[0m         \u001b[0mprint\u001b[0m\u001b[1;33m(\u001b[0m\u001b[0mtraildata\u001b[0m\u001b[1;33m.\u001b[0m\u001b[0mshape\u001b[0m\u001b[1;33m)\u001b[0m\u001b[1;33m\u001b[0m\u001b[1;33m\u001b[0m\u001b[0m\n",
      "\u001b[1;32md:\\Code\\Anaconda\\envs\\mytensorflowenv\\lib\\site-packages\\scipy\\io\\matlab\\mio.py\u001b[0m in \u001b[0;36mloadmat\u001b[1;34m(file_name, mdict, appendmat, **kwargs)\u001b[0m\n\u001b[0;32m    220\u001b[0m     \"\"\"\n\u001b[0;32m    221\u001b[0m     \u001b[0mvariable_names\u001b[0m \u001b[1;33m=\u001b[0m \u001b[0mkwargs\u001b[0m\u001b[1;33m.\u001b[0m\u001b[0mpop\u001b[0m\u001b[1;33m(\u001b[0m\u001b[1;34m'variable_names'\u001b[0m\u001b[1;33m,\u001b[0m \u001b[1;32mNone\u001b[0m\u001b[1;33m)\u001b[0m\u001b[1;33m\u001b[0m\u001b[1;33m\u001b[0m\u001b[0m\n\u001b[1;32m--> 222\u001b[1;33m     \u001b[1;32mwith\u001b[0m \u001b[0m_open_file_context\u001b[0m\u001b[1;33m(\u001b[0m\u001b[0mfile_name\u001b[0m\u001b[1;33m,\u001b[0m \u001b[0mappendmat\u001b[0m\u001b[1;33m)\u001b[0m \u001b[1;32mas\u001b[0m \u001b[0mf\u001b[0m\u001b[1;33m:\u001b[0m\u001b[1;33m\u001b[0m\u001b[1;33m\u001b[0m\u001b[0m\n\u001b[0m\u001b[0;32m    223\u001b[0m         \u001b[0mMR\u001b[0m\u001b[1;33m,\u001b[0m \u001b[0m_\u001b[0m \u001b[1;33m=\u001b[0m \u001b[0mmat_reader_factory\u001b[0m\u001b[1;33m(\u001b[0m\u001b[0mf\u001b[0m\u001b[1;33m,\u001b[0m \u001b[1;33m**\u001b[0m\u001b[0mkwargs\u001b[0m\u001b[1;33m)\u001b[0m\u001b[1;33m\u001b[0m\u001b[1;33m\u001b[0m\u001b[0m\n\u001b[0;32m    224\u001b[0m         \u001b[0mmatfile_dict\u001b[0m \u001b[1;33m=\u001b[0m \u001b[0mMR\u001b[0m\u001b[1;33m.\u001b[0m\u001b[0mget_variables\u001b[0m\u001b[1;33m(\u001b[0m\u001b[0mvariable_names\u001b[0m\u001b[1;33m)\u001b[0m\u001b[1;33m\u001b[0m\u001b[1;33m\u001b[0m\u001b[0m\n",
      "\u001b[1;32md:\\Code\\Anaconda\\envs\\mytensorflowenv\\lib\\contextlib.py\u001b[0m in \u001b[0;36m__enter__\u001b[1;34m(self)\u001b[0m\n\u001b[0;32m     79\u001b[0m     \u001b[1;32mdef\u001b[0m \u001b[0m__enter__\u001b[0m\u001b[1;33m(\u001b[0m\u001b[0mself\u001b[0m\u001b[1;33m)\u001b[0m\u001b[1;33m:\u001b[0m\u001b[1;33m\u001b[0m\u001b[1;33m\u001b[0m\u001b[0m\n\u001b[0;32m     80\u001b[0m         \u001b[1;32mtry\u001b[0m\u001b[1;33m:\u001b[0m\u001b[1;33m\u001b[0m\u001b[1;33m\u001b[0m\u001b[0m\n\u001b[1;32m---> 81\u001b[1;33m             \u001b[1;32mreturn\u001b[0m \u001b[0mnext\u001b[0m\u001b[1;33m(\u001b[0m\u001b[0mself\u001b[0m\u001b[1;33m.\u001b[0m\u001b[0mgen\u001b[0m\u001b[1;33m)\u001b[0m\u001b[1;33m\u001b[0m\u001b[1;33m\u001b[0m\u001b[0m\n\u001b[0m\u001b[0;32m     82\u001b[0m         \u001b[1;32mexcept\u001b[0m \u001b[0mStopIteration\u001b[0m\u001b[1;33m:\u001b[0m\u001b[1;33m\u001b[0m\u001b[1;33m\u001b[0m\u001b[0m\n\u001b[0;32m     83\u001b[0m             \u001b[1;32mraise\u001b[0m \u001b[0mRuntimeError\u001b[0m\u001b[1;33m(\u001b[0m\u001b[1;34m\"generator didn't yield\"\u001b[0m\u001b[1;33m)\u001b[0m \u001b[1;32mfrom\u001b[0m \u001b[1;32mNone\u001b[0m\u001b[1;33m\u001b[0m\u001b[1;33m\u001b[0m\u001b[0m\n",
      "\u001b[1;32md:\\Code\\Anaconda\\envs\\mytensorflowenv\\lib\\site-packages\\scipy\\io\\matlab\\mio.py\u001b[0m in \u001b[0;36m_open_file_context\u001b[1;34m(file_like, appendmat, mode)\u001b[0m\n\u001b[0;32m     15\u001b[0m \u001b[1;33m@\u001b[0m\u001b[0mcontextmanager\u001b[0m\u001b[1;33m\u001b[0m\u001b[1;33m\u001b[0m\u001b[0m\n\u001b[0;32m     16\u001b[0m \u001b[1;32mdef\u001b[0m \u001b[0m_open_file_context\u001b[0m\u001b[1;33m(\u001b[0m\u001b[0mfile_like\u001b[0m\u001b[1;33m,\u001b[0m \u001b[0mappendmat\u001b[0m\u001b[1;33m,\u001b[0m \u001b[0mmode\u001b[0m\u001b[1;33m=\u001b[0m\u001b[1;34m'rb'\u001b[0m\u001b[1;33m)\u001b[0m\u001b[1;33m:\u001b[0m\u001b[1;33m\u001b[0m\u001b[1;33m\u001b[0m\u001b[0m\n\u001b[1;32m---> 17\u001b[1;33m     \u001b[0mf\u001b[0m\u001b[1;33m,\u001b[0m \u001b[0mopened\u001b[0m \u001b[1;33m=\u001b[0m \u001b[0m_open_file\u001b[0m\u001b[1;33m(\u001b[0m\u001b[0mfile_like\u001b[0m\u001b[1;33m,\u001b[0m \u001b[0mappendmat\u001b[0m\u001b[1;33m,\u001b[0m \u001b[0mmode\u001b[0m\u001b[1;33m)\u001b[0m\u001b[1;33m\u001b[0m\u001b[1;33m\u001b[0m\u001b[0m\n\u001b[0m\u001b[0;32m     18\u001b[0m     \u001b[1;32mtry\u001b[0m\u001b[1;33m:\u001b[0m\u001b[1;33m\u001b[0m\u001b[1;33m\u001b[0m\u001b[0m\n\u001b[0;32m     19\u001b[0m         \u001b[1;32myield\u001b[0m \u001b[0mf\u001b[0m\u001b[1;33m\u001b[0m\u001b[1;33m\u001b[0m\u001b[0m\n",
      "\u001b[1;32md:\\Code\\Anaconda\\envs\\mytensorflowenv\\lib\\site-packages\\scipy\\io\\matlab\\mio.py\u001b[0m in \u001b[0;36m_open_file\u001b[1;34m(file_like, appendmat, mode)\u001b[0m\n\u001b[0;32m     43\u001b[0m             \u001b[1;32mif\u001b[0m \u001b[0mappendmat\u001b[0m \u001b[1;32mand\u001b[0m \u001b[1;32mnot\u001b[0m \u001b[0mfile_like\u001b[0m\u001b[1;33m.\u001b[0m\u001b[0mendswith\u001b[0m\u001b[1;33m(\u001b[0m\u001b[1;34m'.mat'\u001b[0m\u001b[1;33m)\u001b[0m\u001b[1;33m:\u001b[0m\u001b[1;33m\u001b[0m\u001b[1;33m\u001b[0m\u001b[0m\n\u001b[0;32m     44\u001b[0m                 \u001b[0mfile_like\u001b[0m \u001b[1;33m+=\u001b[0m \u001b[1;34m'.mat'\u001b[0m\u001b[1;33m\u001b[0m\u001b[1;33m\u001b[0m\u001b[0m\n\u001b[1;32m---> 45\u001b[1;33m             \u001b[1;32mreturn\u001b[0m \u001b[0mopen\u001b[0m\u001b[1;33m(\u001b[0m\u001b[0mfile_like\u001b[0m\u001b[1;33m,\u001b[0m \u001b[0mmode\u001b[0m\u001b[1;33m)\u001b[0m\u001b[1;33m,\u001b[0m \u001b[1;32mTrue\u001b[0m\u001b[1;33m\u001b[0m\u001b[1;33m\u001b[0m\u001b[0m\n\u001b[0m\u001b[0;32m     46\u001b[0m         \u001b[1;32melse\u001b[0m\u001b[1;33m:\u001b[0m\u001b[1;33m\u001b[0m\u001b[1;33m\u001b[0m\u001b[0m\n\u001b[0;32m     47\u001b[0m             \u001b[1;32mraise\u001b[0m \u001b[0mIOError\u001b[0m\u001b[1;33m(\u001b[0m\u001b[1;34m'Reader needs file name or open file-like object'\u001b[0m\u001b[1;33m)\u001b[0m\u001b[1;33m\u001b[0m\u001b[1;33m\u001b[0m\u001b[0m\n",
      "\u001b[1;31mFileNotFoundError\u001b[0m: [Errno 2] No such file or directory: '../../stimulate/SSVEP_BCI/data/class/s1/block1.mat'"
     ]
    }
   ],
   "source": [
    "# filepath='../../Datasets/private/subject3/matdata/'\n",
    "filepath='../../stimulate/SSVEP_BCI/data/class/s1/'\n",
    "rawdata = load_data(filepath, 300)\n",
    "channels = [14, 15, 0, 6, 13, 22, 1, 5, 7]\n",
    "# channels = [1, 2, 3, 4, 5, 7]\n",
    "trainData, trainLabel = get_feature_data(rawdata, channels, 7, 9, 300)\n"
   ]
  },
  {
   "cell_type": "code",
   "execution_count": 7,
   "metadata": {},
   "outputs": [],
   "source": [
    "label_binarizer = LabelBinarizer() #标签二值化\n",
    "train_labels_one_hot = label_binarizer.fit_transform(trainLabel)\n",
    "X_train, X_test, y_train, y_test = train_test_split(trainData, train_labels_one_hot, test_size=0.2, random_state=42)"
   ]
  },
  {
   "cell_type": "code",
   "execution_count": 8,
   "metadata": {},
   "outputs": [
    {
     "name": "stdout",
     "output_type": "stream",
     "text": [
      "3/3 [==============================] - 0s 5ms/step - loss: 1.8770 - accuracy: 0.3095\n"
     ]
    }
   ],
   "source": [
    "EEG_model = acnn_model((9,402,1),decay = 0.0001)\n",
    "sgd = optimizers.SGD(learning_rate=0.001, decay=0, momentum=0.9, nesterov=False)\n",
    "EEG_model.compile(loss='categorical_crossentropy', optimizer=sgd, metrics=['accuracy'])\n",
    "\n",
    "history = EEG_model.fit(X_train, y_train, epochs=120, batch_size=64, verbose=0, validation_split = 0.1)\n",
    "test_loss, test_acc = EEG_model.evaluate(X_test, y_test, verbose=1)"
   ]
  },
  {
   "cell_type": "code",
   "execution_count": 9,
   "metadata": {},
   "outputs": [
    {
     "data": {
      "image/png": "[encoded data removed]",
      "text/plain": [
       "<Figure size 432x288 with 1 Axes>"
      ]
     },
     "metadata": {
      "needs_background": "light"
     },
     "output_type": "display_data"
    },
    {
     "data": {
      "image/png": "[encoded data removed]",
      "text/plain": [
       "<Figure size 432x288 with 1 Axes>"
      ]
     },
     "metadata": {
      "needs_background": "light"
     },
     "output_type": "display_data"
    }
   ],
   "source": [
    "plt.plot(history.history['accuracy'])\n",
    "plt.plot(history.history['val_accuracy'])\n",
    "plt.title('Train History-accuracy')\n",
    "plt.ylabel('accuracy')\n",
    "plt.xlabel('Epoch')\n",
    "plt.legend(['train', 'test'], loc='upper left')\n",
    "plt.show()\n",
    "plt.plot(history.history['loss'])\n",
    "plt.plot(history.history['val_loss'])\n",
    "plt.title('Train History-loss')\n",
    "plt.ylabel('loss')\n",
    "plt.xlabel('Epoch')\n",
    "plt.legend(['train', 'test'], loc='upper left')\n",
    "plt.show()"
   ]
  },
  {
   "cell_type": "code",
   "execution_count": 10,
   "metadata": {},
   "outputs": [
    {
     "name": "stdout",
     "output_type": "stream",
     "text": [
      "第1次准确率: 0.6667，共测试了42组数据 \n",
      "第2次准确率: 0.7619，共测试了42组数据 \n",
      "第3次准确率: 0.6905，共测试了42组数据 \n",
      "WARNING:tensorflow:5 out of the last 160 calls to <function Model.make_test_function.<locals>.test_function at 0x0000021501D99268> triggered tf.function retracing. Tracing is expensive and the excessive number of tracings could be due to (1) creating @tf.function repeatedly in a loop, (2) passing tensors with different shapes, (3) passing Python objects instead of tensors. For (1), please define your @tf.function outside of the loop. For (2), @tf.function has experimental_relax_shapes=True option that relaxes argument shapes that can avoid unnecessary retracing. For (3), please refer to https://www.tensorflow.org/guide/function#controlling_retracing and https://www.tensorflow.org/api_docs/python/tf/function for  more details.\n",
      "第4次准确率: 0.7381，共测试了42组数据 \n",
      "WARNING:tensorflow:6 out of the last 162 calls to <function Model.make_test_function.<locals>.test_function at 0x0000021503AF28C8> triggered tf.function retracing. Tracing is expensive and the excessive number of tracings could be due to (1) creating @tf.function repeatedly in a loop, (2) passing tensors with different shapes, (3) passing Python objects instead of tensors. For (1), please define your @tf.function outside of the loop. For (2), @tf.function has experimental_relax_shapes=True option that relaxes argument shapes that can avoid unnecessary retracing. For (3), please refer to https://www.tensorflow.org/guide/function#controlling_retracing and https://www.tensorflow.org/api_docs/python/tf/function for  more details.\n",
      "第5次准确率: 0.6905，共测试了42组数据 \n",
      "第6次准确率: 0.6905，共测试了42组数据 \n",
      "第7次准确率: 0.6429，共测试了42组数据 \n",
      "第8次准确率: 0.7143，共测试了42组数据 \n",
      "第9次准确率: 0.6905，共测试了42组数据 \n",
      "第10次准确率: 0.7619，共测试了42组数据 \n",
      "avg is 70.48% (+/- 3.72%)\n"
     ]
    }
   ],
   "source": [
    "#10折交叉验证\n",
    "kf = KFold(n_splits=10, shuffle=True)\n",
    "kf.get_n_splits(trainData)\n",
    "label_binarizer = LabelBinarizer() #标签二值化\n",
    "train_labels_one_hot = label_binarizer.fit_transform(trainLabel)\n",
    "\n",
    "acc_per = [0]*10\n",
    "per_index = 0\n",
    "\n",
    "for train_index, test_index in kf.split(trainData):\n",
    "    x_tr, x_ts = trainData[train_index], trainData[test_index]\n",
    "    label_tr, label_ts = train_labels_one_hot[train_index], train_labels_one_hot[test_index]\n",
    "\n",
    "    EEG_model = acnn_model((9,402,1),decay = 0.0001)\n",
    "    sgd = optimizers.SGD(learning_rate=0.001, decay=0, momentum=0.9, nesterov=False)\n",
    "    EEG_model.compile(loss='categorical_crossentropy', optimizer=sgd, metrics=['accuracy'])\n",
    "    \n",
    "    history = EEG_model.fit(x_tr, label_tr, epochs=150, batch_size=64, verbose=0)\n",
    "    test_loss, test_acc = EEG_model.evaluate(x_ts, label_ts,verbose=0)\n",
    "    print(\"第%d次准确率: %.4f，共测试了%d组数据 \" % ((per_index+1),test_acc, len(label_ts)))\n",
    "    acc_per[per_index] = test_acc\n",
    "    per_index+= 1\n",
    "print(\"avg is %.2f%% (+/- %.2f%%)\" % (np.mean(acc_per)*100, np.std(acc_per)*100))"
   ]
  }
 ],
 "metadata": {
  "kernelspec": {
   "display_name": "Python 3.6.13 ('mytensorflowenv')",
   "language": "python",
   "name": "python3"
  },
  "language_info": {
   "codemirror_mode": {
    "name": "ipython",
    "version": 3
   },
   "file_extension": ".py",
   "mimetype": "text/x-python",
   "name": "python",
   "nbconvert_exporter": "python",
   "pygments_lexer": "ipython3",
   "version": "3.6.13"
  },
  "orig_nbformat": 4,
  "vscode": {
   "interpreter": {
    "hash": "8fced24390276d44af49c06e39c2cd4e35b298c85c08d496c89c1ac6f38f0f3b"
   }
  }
 },
 "nbformat": 4,
 "nbformat_minor": 2
}
