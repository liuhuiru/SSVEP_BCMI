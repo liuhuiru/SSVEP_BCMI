{
 "cells": [
  {
   "attachments": {},
   "cell_type": "markdown",
   "metadata": {},
   "source": [
    "### 已经拿到已经训练好的模型，可以在这里指定输入序列生成midi音乐"
   ]
  },
  {
   "cell_type": "code",
   "execution_count": 1,
   "metadata": {},
   "outputs": [
    {
     "name": "stderr",
     "output_type": "stream",
     "text": [
      "d:\\Code\\Anaconda\\envs\\mytensorflowenv\\lib\\site-packages\\requests\\__init__.py:104: RequestsDependencyWarning: urllib3 (1.26.8) or chardet (5.0.0)/charset_normalizer (2.0.11) doesn't match a supported version!\n",
      "  RequestsDependencyWarning)\n"
     ]
    }
   ],
   "source": [
    "import pickle\n",
    "import pretty_midi\n",
    "import tensorflow as tf\n",
    "import numpy as np\n",
    "\n",
    "from tensorflow.keras import backend as K\n",
    "from tqdm import tnrange, tqdm_notebook, tqdm\n",
    "from numpy.random import choice\n",
    "from keras_self_attention import SeqSelfAttention"
   ]
  },
  {
   "cell_type": "code",
   "execution_count": 2,
   "metadata": {},
   "outputs": [],
   "source": [
    "class NoteTokenizer:\n",
    "    def __init__(self):\n",
    "        self.notes_to_index = {}\n",
    "        self.index_to_notes = {}\n",
    "        self.num_of_word = 0\n",
    "        self.unique_word = 0\n",
    "        self.notes_freq = {}\n",
    "\n",
    "    def transform(self, list_array):\n",
    "        \"\"\"Transform a list of note in string into index.\n",
    "\n",
    "        Parameters\n",
    "        ==========\n",
    "        list_array : list\n",
    "          list of note in string format\n",
    "\n",
    "        Returns\n",
    "        =======\n",
    "        The transformed list in numpy array.\n",
    "\n",
    "        \"\"\"\n",
    "        transformed_list = []\n",
    "        for instance in list_array:\n",
    "            transformed_list.append([self.notes_to_index[note] for note in instance])\n",
    "        return np.array(transformed_list, dtype=np.int32)\n",
    "\n",
    "    def partial_fit(self, notes):\n",
    "        \"\"\"Partial fit on the dictionary of the tokenizer\n",
    "\n",
    "        Parameters\n",
    "        ==========\n",
    "        notes : list of notes\n",
    "\n",
    "        \"\"\"\n",
    "        for note in notes:\n",
    "            note_str = \",\".join(str(a) for a in note)\n",
    "            if note_str in self.notes_freq:\n",
    "                self.notes_freq[note_str] += 1\n",
    "                self.num_of_word += 1\n",
    "            else:\n",
    "                self.notes_freq[note_str] = 1\n",
    "                self.unique_word += 1\n",
    "                self.num_of_word += 1\n",
    "                self.notes_to_index[note_str], self.index_to_notes[self.unique_word] = (\n",
    "                    self.unique_word,\n",
    "                    note_str,\n",
    "                )\n",
    "\n",
    "    def add_new_note(self, note):\n",
    "        \"\"\"Add a new note into the dictionary\n",
    "\n",
    "        Parameters\n",
    "        ==========\n",
    "        note : str\n",
    "          a new note who is not in dictionary.\n",
    "\n",
    "        \"\"\"\n",
    "        assert note not in self.notes_to_index\n",
    "        self.unique_word += 1\n",
    "        self.notes_to_index[note], self.index_to_notes[self.unique_word] = (\n",
    "            self.unique_word,\n",
    "            note,\n",
    "        )\n"
   ]
  },
  {
   "cell_type": "code",
   "execution_count": 3,
   "metadata": {},
   "outputs": [],
   "source": [
    "def piano_roll_to_pretty_midi(piano_roll, fs=100, program=0):\n",
    "    '''Convert a Piano Roll array into a PrettyMidi object\n",
    "     with a single instrument.\n",
    "    Parameters\n",
    "    ----------\n",
    "    piano_roll : np.ndarray, shape=(128,frames), dtype=int\n",
    "        Piano roll of one instrument\n",
    "    fs : int\n",
    "        Sampling frequency of the columns, i.e. each column is spaced apart\n",
    "        by ``1./fs`` seconds.\n",
    "    program : int\n",
    "        The program number of the instrument.\n",
    "    Returns\n",
    "    -------\n",
    "    midi_object : pretty_midi.PrettyMIDI\n",
    "        A pretty_midi.PrettyMIDI class instance describing\n",
    "        the piano roll.\n",
    "    '''\n",
    "    notes, frames = piano_roll.shape\n",
    "    pm = pretty_midi.PrettyMIDI()\n",
    "    instrument = pretty_midi.Instrument(program=program)\n",
    "\n",
    "    # pad 1 column of zeros so we can acknowledge inital and ending events\n",
    "    piano_roll = np.pad(piano_roll, [(0, 0), (1, 1)], 'constant')\n",
    "\n",
    "    # use changes in velocities to find note on / note off events\n",
    "    velocity_changes = np.nonzero(np.diff(piano_roll).T)\n",
    "\n",
    "    # keep track on velocities and note on times\n",
    "    prev_velocities = np.zeros(notes, dtype=int)\n",
    "    note_on_time = np.zeros(notes)\n",
    "\n",
    "    for time, note in zip(*velocity_changes):\n",
    "        # use time + 1 because of padding above\n",
    "        velocity = piano_roll[note, time + 1]\n",
    "        time = time / fs\n",
    "        if velocity > 0:\n",
    "            if prev_velocities[note] == 0:\n",
    "                note_on_time[note] = time\n",
    "                prev_velocities[note] = velocity\n",
    "        else:\n",
    "            pm_note = pretty_midi.Note(\n",
    "                velocity=prev_velocities[note],\n",
    "                pitch=note,\n",
    "                start=note_on_time[note],\n",
    "                end=time)\n",
    "            instrument.notes.append(pm_note)\n",
    "            prev_velocities[note] = 0\n",
    "    pm.instruments.append(instrument)\n",
    "    return pm"
   ]
  },
  {
   "cell_type": "code",
   "execution_count": 11,
   "metadata": {},
   "outputs": [
    {
     "name": "stdout",
     "output_type": "stream",
     "text": [
      "WARNING:tensorflow:No training configuration found in the save file, so the model was *not* compiled. Compile it manually.\n"
     ]
    }
   ],
   "source": [
    "#在这里加载训练好的模型\n",
    "\n",
    "model = tf.keras.models.load_model('./music_model/model_ep50.h5', custom_objects=SeqSelfAttention.get_custom_objects())\n",
    "note_tokenizer  = pickle.load( open( \"./music_model/tokenizer_ep50.p\", \"rb\" ) )"
   ]
  },
  {
   "cell_type": "code",
   "execution_count": 14,
   "metadata": {},
   "outputs": [],
   "source": [
    "def generate_from_ssvep_note(note_tokenizer, notes):\n",
    "  generate = [note_tokenizer.notes_to_index['e'] for i in range(50-len(notes))]\n",
    "  for i in range(len(notes)):\n",
    "    generate += [note_tokenizer.notes_to_index[notes[i]]]\n",
    "  return generate"
   ]
  },
  {
   "cell_type": "code",
   "execution_count": 15,
   "metadata": {},
   "outputs": [],
   "source": [
    "def generate_notes(generate, model, unique_notes, max_generated=1000, seq_len=50):\n",
    "  for i in tqdm_notebook(range(max_generated), desc='genrt'):\n",
    "    test_input = np.array([generate])[:,i:i+seq_len]\n",
    "    predicted_note = model.predict(test_input)\n",
    "    random_note_pred = choice(unique_notes+1, 1, replace=False, p=predicted_note[0])\n",
    "    generate.append(random_note_pred[0])\n",
    "  return generate"
   ]
  },
  {
   "cell_type": "code",
   "execution_count": 16,
   "metadata": {},
   "outputs": [],
   "source": [
    "noteToMidiId = {\n",
    "    1: '60',\n",
    "    2: '62',\n",
    "    3: '64',\n",
    "    4: '65',\n",
    "    5: '67',\n",
    "    6: '69',\n",
    "    7: '71',\n",
    "    'e': 'e',\n",
    "    11: '72',\n",
    "    77:'59'\n",
    "}\n",
    "# outputNoteList = [5,3,5,3,5,3,1,2,4,3,2,5,\n",
    "#                   5,3,5,3,5,3,1,2,4,3,2,1,\n",
    "#                   2,2,4,4,3,1,5,2,4,3,2,5,\n",
    "#                   5,3,5,3,5,3,1,2,4,3,2,1]\n",
    "outputNoteList = [5,3,5,3,5,3,1]\n",
    "# outputNoteList = [1,1,5,5,6,6,5,4,4,3,3,2,2,1]\n",
    "# outputNoteList = [1,1,5,5,6,6,5,'e','e','e','e',4,4,3,3,2,2,1,'e','e','e','e',5,5,4,4,3,3,2,'e','e','e','e',5,5,4,4,3,3,2,'e']\n",
    "# outputNoteList = [5,3,5,11,6,11,6,5,5,1,2,3,2,1,2,5,3,5,11,7,6,11,5,5,2,3,4,77,1]\n",
    "notes = [noteToMidiId[i] for i in outputNoteList]\n",
    "\n",
    "\n",
    "# notes = ['67','64','67','64','67','64','60','e','62','65','64','62','67','e','67','64','67','64','67','64','60','e','62','65','64','62','60','e',]\n",
    "generate = generate_from_ssvep_note(note_tokenizer, notes)"
   ]
  },
  {
   "cell_type": "code",
   "execution_count": 17,
   "metadata": {},
   "outputs": [
    {
     "name": "stderr",
     "output_type": "stream",
     "text": [
      "d:\\Code\\Anaconda\\envs\\mytensorflowenv\\lib\\site-packages\\ipykernel_launcher.py:2: TqdmDeprecationWarning: This function will be removed in tqdm==5.0.0\n",
      "Please use `tqdm.notebook.tqdm` instead of `tqdm.tqdm_notebook`\n",
      "  \n"
     ]
    },
    {
     "data": {
      "application/vnd.jupyter.widget-view+json": {
       "model_id": "80a77cf925ff4082ae593647168c4b5f",
       "version_major": 2,
       "version_minor": 0
      },
      "text/plain": [
       "genrt:   0%|          | 0/200 [00:00<?, ?it/s]"
      ]
     },
     "metadata": {},
     "output_type": "display_data"
    }
   ],
   "source": [
    "max_generate = 200\n",
    "unique_notes = note_tokenizer.unique_word\n",
    "seq_len=50\n",
    "generate = generate_notes(generate, model, unique_notes, max_generate, seq_len)"
   ]
  },
  {
   "cell_type": "code",
   "execution_count": 9,
   "metadata": {},
   "outputs": [],
   "source": [
    "def write_midi_file_from_generated(generate, midi_file_name = \"result.mid\", start_index=49, fs=8, max_generated=1000):\n",
    "  note_string = [note_tokenizer.index_to_notes[ind_note] for ind_note in generate]\n",
    "  array_piano_roll = np.zeros((128,max_generated+1), dtype=np.int16)\n",
    "  for index, note in enumerate(note_string[start_index:]):\n",
    "    if note == 'e':\n",
    "      pass\n",
    "    else:\n",
    "      splitted_note = note.split(',')\n",
    "      for j in splitted_note:\n",
    "        array_piano_roll[int(j),index] = 1\n",
    "  generate_to_midi = piano_roll_to_pretty_midi(array_piano_roll, fs=fs)\n",
    "  print(\"Tempo {}\".format(generate_to_midi.estimate_tempo()))\n",
    "  for note in generate_to_midi.instruments[0].notes:\n",
    "    note.velocity = 100\n",
    "  generate_to_midi.write(midi_file_name)"
   ]
  },
  {
   "cell_type": "code",
   "execution_count": 18,
   "metadata": {},
   "outputs": [
    {
     "name": "stdout",
     "output_type": "stream",
     "text": [
      "Tempo 171.42857142857167\n"
     ]
    }
   ],
   "source": [
    "write_midi_file_from_generated(generate, \"./midi/50.mid\", start_index=49, fs=5, max_generated = 200)"
   ]
  },
  {
   "cell_type": "code",
   "execution_count": 23,
   "metadata": {},
   "outputs": [
    {
     "name": "stdout",
     "output_type": "stream",
     "text": [
      "Tempo 176.4705882352946\n"
     ]
    }
   ],
   "source": [
    "write_midi_file_from_generated(generate, \"./midi/送别.mid\", start_index=49, fs=5, max_generated = max_generate)"
   ]
  }
 ],
 "metadata": {
  "kernelspec": {
   "display_name": "mytensorflowenv",
   "language": "python",
   "name": "python3"
  },
  "language_info": {
   "codemirror_mode": {
    "name": "ipython",
    "version": 3
   },
   "file_extension": ".py",
   "mimetype": "text/x-python",
   "name": "python",
   "nbconvert_exporter": "python",
   "pygments_lexer": "ipython3",
   "version": "3.6.13"
  },
  "orig_nbformat": 4,
  "vscode": {
   "interpreter": {
    "hash": "8fced24390276d44af49c06e39c2cd4e35b298c85c08d496c89c1ac6f38f0f3b"
   }
  }
 },
 "nbformat": 4,
 "nbformat_minor": 2
}
